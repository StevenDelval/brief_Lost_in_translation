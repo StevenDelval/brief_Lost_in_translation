{
 "cells": [
  {
   "cell_type": "code",
   "execution_count": 16,
   "metadata": {},
   "outputs": [
    {
     "name": "stdout",
     "output_type": "stream",
     "text": [
      "('0087734087', 2)\n"
     ]
    }
   ],
   "source": [
    "import sqlalchemy as db\n",
    "\n",
    "engine = db.create_engine(\"sqlite:///db.sqlite\")\n",
    "connection = engine.connect()\n",
    "\n",
    "with engine.connect() as con:\n",
    "    tout= con.execute(\"\"\"\n",
    "    SELECT    code_uic,COUNT(*)\n",
    "    FROM     Gare\n",
    "    GROUP BY code_uic\n",
    "    HAVING   COUNT(*) > 1\n",
    "    \"\"\")\n",
    "    for row in tout:\n",
    "        print(row)\n"
   ]
  },
  {
   "cell_type": "code",
   "execution_count": 17,
   "metadata": {},
   "outputs": [
    {
     "name": "stdout",
     "output_type": "stream",
     "text": [
      "('f3c65fdfb586a275e44fed2e12a33d142d55b07b', '0087734087', 'Pont-du-Château', '63430', None, None, None, None, None)\n",
      "('c8f971e4bddc4c1eb4a53d417c3848dfeda7d9a4', '0087734087', 'Pont-du-Château', '63430', '284', '63', 'Puy-de-Dôme', 3.2377829, 45.7885543)\n"
     ]
    }
   ],
   "source": [
    "with engine.connect() as con:\n",
    "    tout= con.execute(\"\"\"\n",
    "    SELECT    *\n",
    "    FROM     Gare\n",
    "    \n",
    "    Where   code_uic =\"0087734087\"\n",
    "    \"\"\")\n",
    "    for row in tout:\n",
    "        print(row)\n"
   ]
  },
  {
   "cell_type": "code",
   "execution_count": 18,
   "metadata": {},
   "outputs": [],
   "source": [
    "with engine.connect() as con:\n",
    "    con.execute(\"\"\"\n",
    "    DELETE FROM Gare WHERE id='f3c65fdfb586a275e44fed2e12a33d142d55b07b';\"\"\")"
   ]
  }
 ],
 "metadata": {
  "kernelspec": {
   "display_name": "apisncf",
   "language": "python",
   "name": "python3"
  },
  "language_info": {
   "codemirror_mode": {
    "name": "ipython",
    "version": 3
   },
   "file_extension": ".py",
   "mimetype": "text/x-python",
   "name": "python",
   "nbconvert_exporter": "python",
   "pygments_lexer": "ipython3",
   "version": "3.9.15 (main, Nov 24 2022, 14:31:59) \n[GCC 11.2.0]"
  },
  "orig_nbformat": 4,
  "vscode": {
   "interpreter": {
    "hash": "62c7461d636a3cea30a719de429da6dbf3610b43f94aeca3e4b01a0ea074f705"
   }
  }
 },
 "nbformat": 4,
 "nbformat_minor": 2
}
