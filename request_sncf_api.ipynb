{
 "cells": [
  {
   "cell_type": "code",
   "execution_count": 1,
   "metadata": {},
   "outputs": [],
   "source": [
    "import requests\n",
    "import re\n",
    "import json"
   ]
  },
  {
   "cell_type": "code",
   "execution_count": 2,
   "metadata": {},
   "outputs": [],
   "source": [
    "url_part_one = \"https://ressources.data.sncf.com/api/records/1.0/search/?dataset=objets-trouves-restitution&q=date:\"\n",
    "\n",
    "url_part_tree = \"&sort=-date&rows=-1\"\n",
    "\n"
   ]
  },
  {
   "cell_type": "code",
   "execution_count": 3,
   "metadata": {},
   "outputs": [],
   "source": [
    "liste_annees = [\"2016\",\"2017\",\"2018\",\"2019\",\"2020\",\"2021\"]\n",
    "liste_mois = [\"01\",\"02\",\"03\",\"04\",\"05\",\"06\",\"07\",\"08\",\"09\",\"10\",\"11\",\"12\"]\n",
    "liste_part_two_url = []\n",
    "for annee in liste_annees:\n",
    "    for mois in liste_mois:\n",
    "        if mois in [\"01\",\"03\",\"05\",\"07\",\"08\",\"10\",\"12\"]:\n",
    "            liste_part_two_url.append(f\"[{annee}-{mois}-01T00:00:00Z TO {annee}-{mois}-31T23:59:59Z]\")\n",
    "        elif mois in [\"04\",\"06\",\"09\",\"11\"]:\n",
    "             liste_part_two_url.append(f\"[{annee}-{mois}-01T00:00:00Z TO {annee}-{mois}-30T23:59:59Z]\")\n",
    "        elif mois == \"02\":\n",
    "            if annee in [\"2016\",\"2020\"]:\n",
    "                liste_part_two_url.append(f\"[{annee}-{mois}-01T00:00:00Z TO {annee}-{mois}-29T23:59:59Z]\")\n",
    "            else:\n",
    "                liste_part_two_url.append(f\"[{annee}-{mois}-01T00:00:00Z TO {annee}-{mois}-28T23:59:59Z]\")"
   ]
  },
  {
   "cell_type": "code",
   "execution_count": 4,
   "metadata": {},
   "outputs": [],
   "source": [
    "for url_part_two in liste_part_two_url:\n",
    "    name_file = re.findall(\"\\d{4}-\\d{2}\",url_part_two)[0]\n",
    "    with open(f'json/data_sncf_{name_file}.json', 'w') as mon_fichier: \n",
    "        data = requests.get(url_part_one + url_part_two + url_part_tree).json()\n",
    "        json.dump(data, mon_fichier)"
   ]
  },
  {
   "cell_type": "code",
   "execution_count": 10,
   "metadata": {},
   "outputs": [
    {
     "name": "stdout",
     "output_type": "stream",
     "text": [
      "{'gc_obo_gare_origine_r_code_uic_c': '0087723197', 'gc_obo_type_c': 'Bagagerie: sacs, valises, cartables', 'gc_obo_gare_origine_r_name': 'Lyon Part Dieu', 'gc_obo_nature_c': 'Sac à dos', 'gc_obo_nom_recordtype_sc_c': 'Objet trouvé', 'date': '2016-01-01T05:29:11+00:00'}\n"
     ]
    }
   ],
   "source": [
    "import json\n",
    "\n",
    "with open('json/data_sncf_2016-01.json') as mon_fichier:\n",
    "    data = json.load(mon_fichier)\n",
    "\n",
    "print(data['records'][0][\"fields\"])"
   ]
  }
 ],
 "metadata": {
  "kernelspec": {
   "display_name": "scrapping",
   "language": "python",
   "name": "python3"
  },
  "language_info": {
   "codemirror_mode": {
    "name": "ipython",
    "version": 3
   },
   "file_extension": ".py",
   "mimetype": "text/x-python",
   "name": "python",
   "nbconvert_exporter": "python",
   "pygments_lexer": "ipython3",
   "version": "3.9.15"
  },
  "orig_nbformat": 4,
  "vscode": {
   "interpreter": {
    "hash": "fd3b62b4e3a46936b70179a21ff0662b5c0041470bf23202501292961aa31bd6"
   }
  }
 },
 "nbformat": 4,
 "nbformat_minor": 2
}
