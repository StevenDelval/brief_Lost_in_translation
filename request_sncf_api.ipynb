{
 "cells": [
  {
   "cell_type": "code",
   "execution_count": null,
   "metadata": {},
   "outputs": [],
   "source": [
    "import requests\n",
    "import re\n",
    "import json\n",
    "import sqlalchemy as db\n",
    "from datetime import datetime"
   ]
  },
  {
   "cell_type": "code",
   "execution_count": null,
   "metadata": {},
   "outputs": [],
   "source": [
    "url_part_one = \"https://ressources.data.sncf.com/api/records/1.0/search/?dataset=objets-trouves-restitution&q=date:\"\n",
    "\n",
    "url_part_tree = \"&sort=-date&rows=-1\"\n",
    "\n"
   ]
  },
  {
   "cell_type": "code",
   "execution_count": null,
   "metadata": {},
   "outputs": [],
   "source": [
    "liste_annees = [\"2016\",\"2017\",\"2018\",\"2019\",\"2020\",\"2021\"]\n",
    "liste_mois = [\"01\",\"02\",\"03\",\"04\",\"05\",\"06\",\"07\",\"08\",\"09\",\"10\",\"11\",\"12\"]\n",
    "liste_part_two_url = []\n",
    "for annee in liste_annees:\n",
    "    for mois in liste_mois:\n",
    "        if mois in [\"01\",\"03\",\"05\",\"07\",\"08\",\"10\",\"12\"]:\n",
    "            liste_part_two_url.append(f\"[{annee}-{mois}-01T00:00:00Z TO {annee}-{mois}-31T23:59:59Z]\")\n",
    "        elif mois in [\"04\",\"06\",\"09\",\"11\"]:\n",
    "             liste_part_two_url.append(f\"[{annee}-{mois}-01T00:00:00Z TO {annee}-{mois}-30T23:59:59Z]\")\n",
    "        elif mois == \"02\":\n",
    "            if annee in [\"2016\",\"2020\"]:\n",
    "                liste_part_two_url.append(f\"[{annee}-{mois}-01T00:00:00Z TO {annee}-{mois}-29T23:59:59Z]\")\n",
    "            else:\n",
    "                liste_part_two_url.append(f\"[{annee}-{mois}-01T00:00:00Z TO {annee}-{mois}-28T23:59:59Z]\")"
   ]
  },
  {
   "cell_type": "code",
   "execution_count": null,
   "metadata": {},
   "outputs": [],
   "source": [
    "# for url_part_two in liste_part_two_url:\n",
    "#     name_file = re.findall(\"\\d{4}-\\d{2}\",url_part_two)[0]\n",
    "#     with open(f'json/data_sncf_{name_file}.json', 'w') as mon_fichier: \n",
    "#         data = requests.get(url_part_one + url_part_two + url_part_tree).json()\n",
    "#         json.dump(data, mon_fichier)"
   ]
  },
  {
   "cell_type": "code",
   "execution_count": null,
   "metadata": {},
   "outputs": [],
   "source": [
    "engine = db.create_engine(\"sqlite:///donnees_sncf.db\")\n",
    "connection = engine.connect()\n",
    "\n",
    "metadata = db.MetaData()\n",
    "with engine.connect() as con:\n",
    "    con.execute(\"DROP TABLE sncf\")\n",
    "\n",
    "sncf_table = db.Table(\"sncf\", metadata,\n",
    "             db.Column('id',db.Integer(),primary_key=True),\n",
    "             db.Column('date',db.String()),\n",
    "             db.Column('heure',db.String()),\n",
    "             db.Column('categorie_objet',db.String()),\n",
    "             db.Column('type_objet', db.String()),\n",
    "             db.Column('gare',db.String()),\n",
    "             db.Column('uic_gare',db.String()),\n",
    "             \n",
    "             )\n",
    "\n",
    "metadata.create_all(engine)"
   ]
  },
  {
   "cell_type": "code",
   "execution_count": null,
   "metadata": {},
   "outputs": [],
   "source": [
    "liste_annees = [\"2016\",\"2017\",\"2018\",\"2019\",\"2020\",\"2021\"]\n",
    "liste_mois = [\"01\",\"02\",\"03\",\"04\",\"05\",\"06\",\"07\",\"08\",\"09\",\"10\",\"11\",\"12\"]\n",
    "liste_file = []\n",
    "for annee in liste_annees:\n",
    "    for mois in liste_mois:\n",
    "        liste_file.append(f\"{annee}-{mois}\")\n",
    "for endfile in liste_file:\n",
    "    print(endfile,datetime.now())\n",
    "    with open(f'json/data_sncf_{endfile}.json') as mon_fichier:\n",
    "        data = json.load(mon_fichier)\n",
    "        for objet in data['records']:\n",
    "            print(\"un objet\",datetime.now())\n",
    "            date = objet[\"fields\"][\"date\"].split(\"T\")[0]\n",
    "            heure = objet[\"fields\"][\"date\"].split(\"T\")[1].split(\"+\")[0]\n",
    "            categorie_objet = objet[\"fields\"][\"gc_obo_type_c\"]\n",
    "            type_objet = objet[\"fields\"][\"gc_obo_nature_c\"]\n",
    "            try:\n",
    "                gare = objet[\"fields\"][\"gc_obo_gare_origine_r_name\"]\n",
    "            except:\n",
    "                gare=\"None\"\n",
    "            try:\n",
    "                uic_gare = objet[\"fields\"][\"gc_obo_gare_origine_r_code_uic_c\"]\n",
    "            except:\n",
    "                uic_gare=\"None\"\n",
    "            \n",
    "            \n",
    "            with engine.connect() as con:\n",
    "                insertTable = \"INSERT INTO sncf (date, heure, categorie_objet, type_objet,gare,uic_gare) VALUES (:date, :heure, :categorie_objet, :type_objet, :gare, :uic_gare)\"\n",
    "                params = {\"date\":date, \"heure\":heure, \"categorie_objet\":categorie_objet, \"type_objet\":type_objet, \"gare\":gare,\"uic_gare\":uic_gare}\n",
    "                statement = db.text(insertTable)\n",
    "                con.execute(statement,params)\n",
    "\n"
   ]
  }
 ],
 "metadata": {
  "kernelspec": {
   "display_name": "apisncf",
   "language": "python",
   "name": "python3"
  },
  "language_info": {
   "codemirror_mode": {
    "name": "ipython",
    "version": 3
   },
   "file_extension": ".py",
   "mimetype": "text/x-python",
   "name": "python",
   "nbconvert_exporter": "python",
   "pygments_lexer": "ipython3",
   "version": "3.9.15 (main, Nov 24 2022, 14:31:59) \n[GCC 11.2.0]"
  },
  "orig_nbformat": 4,
  "vscode": {
   "interpreter": {
    "hash": "62c7461d636a3cea30a719de429da6dbf3610b43f94aeca3e4b01a0ea074f705"
   }
  }
 },
 "nbformat": 4,
 "nbformat_minor": 2
}
