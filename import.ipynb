{
 "cells": [
  {
   "cell_type": "code",
   "execution_count": 1,
   "metadata": {},
   "outputs": [],
   "source": [
    "import requests"
   ]
  },
  {
   "cell_type": "markdown",
   "metadata": {},
   "source": [
    "# Données des objets perdus"
   ]
  },
  {
   "cell_type": "code",
   "execution_count": 2,
   "metadata": {},
   "outputs": [],
   "source": [
    "def specific_url_lostitem(annee,mois):\n",
    "    URL = \"https://ressources.data.sncf.com/api/records/1.0/search/\"\n",
    "    ressource = \"?dataset=objets-trouves-restitution&q=&rows=10000&sort=-date&facet=date&facet=gc_obo_date_heure_restitution_c&facet=gc_obo_gare_origine_r_name&facet=gc_obo_nature_c&facet=gc_obo_type_c&facet=gc_obo_nom_recordtype_sc_c&refine.date=\"\n",
    "    month_format = f\"{annee}%2F{mois}\"\n",
    "    return URL + ressource + month_format\n",
    "\n",
    "# try_request = requests.get(specific_url(2021,12))"
   ]
  },
  {
   "cell_type": "code",
   "execution_count": 3,
   "metadata": {},
   "outputs": [],
   "source": [
    "from create_model import LostItem\n",
    "from sqlalchemy.orm import sessionmaker\n",
    "from sqlalchemy import create_engine\n",
    "import json\n",
    "\n",
    "\n",
    "engine = create_engine('sqlite:///db.sqlite')\n",
    "Session = sessionmaker(bind=engine)\n",
    "session = Session()\n",
    "\n",
    "\n",
    "for annee in [\"2016\",\"2017\",\"2018\",\"2019\",\"2020\",\"2021\"]:\n",
    "    for mois in [\"01\",\"02\",\"03\",\"04\",\"05\",\"06\",\"07\",\"08\",\"09\",\"10\",\"11\",\"12\"]:\n",
    "        with open(f'json/data_sncf_{annee}-{mois}.json') as mon_fichier:\n",
    "            data = json.load(mon_fichier)\n",
    "        \n",
    "            for lost_item in data[\"records\"]:\n",
    "                \n",
    "\n",
    "                try:\n",
    "                    date_restitution= lost_item[\"fields\"][\"gc_obo_date_heure_restitution_c\"]\n",
    "                except KeyError:\n",
    "                    date_restitution=None\n",
    "\n",
    "                try:\n",
    "                    code_uic_gare_origine= lost_item[\"fields\"][\"gc_obo_gare_origine_r_code_uic_c\"] \n",
    "                except KeyError:\n",
    "                    code_uic_gare_origine= None   \n",
    "                \n",
    "                try:\n",
    "                    gc_obo_gare_origine_r_name= lost_item[\"fields\"][\"gc_obo_gare_origine_r_name\"] \n",
    "                except KeyError:\n",
    "                    gc_obo_gare_origine_r_name= None  \n",
    "\n",
    "                session.add(LostItem(\n",
    "                    id= lost_item[\"recordid\"] , \n",
    "                    code_uic_gare_origine= code_uic_gare_origine ,\n",
    "                    date= lost_item[\"fields\"][\"date\"],\n",
    "                    type_objet=lost_item[\"fields\"][\"gc_obo_type_c\"] ,\n",
    "                    gare= gc_obo_gare_origine_r_name,\n",
    "                    date_restitution=date_restitution \n",
    "                    ))\n",
    "\n",
    "\n",
    "            session.commit()\n",
    "\n"
   ]
  },
  {
   "cell_type": "markdown",
   "metadata": {},
   "source": [
    "# Données des gares"
   ]
  },
  {
   "cell_type": "code",
   "execution_count": null,
   "metadata": {},
   "outputs": [],
   "source": [
    "from create_model import Gare\n",
    "from sqlalchemy.orm import sessionmaker\n",
    "from sqlalchemy import create_engine\n",
    "\n",
    "\n",
    "engine = create_engine('sqlite:///db.sqlite')\n",
    "Session = sessionmaker(bind=engine)\n",
    "session = Session()\n",
    "\n",
    "url_game = \"https://ressources.data.sncf.com/api/records/1.0/search/?dataset=referentiel-gares-voyageurs&q=&rows=10000\"\n",
    "my_request = requests.get(url_game)\n",
    "\n",
    "field_list = [\n",
    "    [\"code_uic\", \"uic_code\"],\n",
    "    [\"nom_gare\", \"gare_alias_libelle_noncontraint\"],\n",
    "    [\"code_commune\", \"commune_code\"],\n",
    "    [\"code_postal\", \"adresse_cp\"],\n",
    "    [\"code_departement\", \"departement_numero\"],\n",
    "    [\"departement\", \"departement_libellemin\"],\n",
    "    [\"longitude\", \"longitude_entreeprincipale_wgs84\"],\n",
    "    [\"latitude\", \"latitude_entreeprincipale_wgs84\"]\n",
    "]\n",
    "\n",
    "for gare in my_request.json()[\"records\"]:\n",
    "    gare_data= {}\n",
    "\n",
    "    gare_data[\"id\"] = gare[\"recordid\"]\n",
    "\n",
    "    for field in field_list:\n",
    "        try: \n",
    "            gare_data[field[0]] = gare[\"fields\"][field[1]]\n",
    "        except KeyError:\n",
    "            gare_data[field[0]]=None\n",
    "\n",
    "   \n",
    "    session.add(Gare(**gare_data))\n",
    "    session.commit()\n",
    "    # try:\n",
    "    #     session.commit()\n",
    "    # except:\n",
    "    #     print(gare_data[\"code_uic\"])"
   ]
  },
  {
   "attachments": {},
   "cell_type": "markdown",
   "metadata": {},
   "source": [
    "# Données des fréquentations"
   ]
  },
  {
   "cell_type": "code",
   "execution_count": null,
   "metadata": {},
   "outputs": [],
   "source": [
    "from create_model import Frequentation\n",
    "from sqlalchemy.orm import sessionmaker\n",
    "from sqlalchemy import create_engine\n",
    "\n",
    "\n",
    "engine = create_engine('sqlite:///db.sqlite')\n",
    "Session = sessionmaker(bind=engine)\n",
    "session = Session()\n",
    "\n",
    "url_game = \"https://ressources.data.sncf.com/api/records/1.0/search/?dataset=frequentation-gares&q=&sort=nom_gare&rows=10000\"\n",
    "my_request = requests.get(url_game)\n",
    "\n",
    "\n",
    "field_list = [\n",
    "    [\"code_uic\", \"code_uic_complet\"],\n",
    "    [\"code_postal\", \"code_postal\"],\n",
    "    [\"total_voyageurs_2016\", \"total_voyageurs_2016\"],\n",
    "    [\"total_voyageurs_2017\", \"totalvoyageurs2017\"],\n",
    "    [\"total_voyageurs_2018\", \"total_voyageurs_2018\"],\n",
    "    [\"total_voyageurs_2019\", \"total_voyageurs_2019\"],\n",
    "    [\"total_voyageurs_2020\", \"total_voyageurs_2020\"],\n",
    "    [\"total_voyageurs_2021\", \"total_voyageurs_2021\"]\n",
    "]\n",
    "\n",
    "for frequentation in my_request.json()[\"records\"]:\n",
    "    frequentation_data= {}\n",
    "\n",
    "    frequentation_data[\"id\"] = frequentation[\"recordid\"]\n",
    "\n",
    "    for field in field_list:\n",
    "        if field[0] ==\"code_uic\":\n",
    "            try: \n",
    "                frequentation_data[field[0]] = \"00\" + str(frequentation[\"fields\"][field[1]])\n",
    "            except KeyError:\n",
    "                frequentation_data[field[0]]=None\n",
    "        else:\n",
    "            try: \n",
    "                frequentation_data[field[0]] = frequentation[\"fields\"][field[1]]\n",
    "            except KeyError:\n",
    "                frequentation_data[field[0]]=None\n",
    "\n",
    "   \n",
    "    session.add(Frequentation(**frequentation_data))\n",
    "    session.commit()\n"
   ]
  },
  {
   "attachments": {},
   "cell_type": "markdown",
   "metadata": {},
   "source": [
    "# Données météorologiques"
   ]
  },
  {
   "cell_type": "code",
   "execution_count": null,
   "metadata": {},
   "outputs": [],
   "source": [
    "# dep_with_gare= [ '75', '10', '54', '88', '51', '68', '90', '67', '57', '59',\n",
    "#        '95', '60', '62', '80', '84', '13', '27', '76', '14', '61', '35',\n",
    "#        '29', '56', '53', '44', '49', '17', '85', '45', '37', '41', '86',\n",
    "#        '18', '33', '16', '24', '47', '87', '36', '31', '11', '65', '64',\n",
    "#        '34', '58', '03', '21', '25', '69', '71', '42', '63', '73', '01',\n",
    "#        '74', '38', '83', '06', '26', '05', '30', '66']"
   ]
  },
  {
   "cell_type": "code",
   "execution_count": null,
   "metadata": {},
   "outputs": [],
   "source": [
    "# def specific_url_temp(dep,annee):\n",
    "#     URL = \"https://public.opendatasoft.com\"\n",
    "#     ressource = \"/api/records/1.0/search/?dataset=donnees-synop-essentielles-omm&q=&rows=10000&sort=date\"\n",
    "#     month_format = f\"&refine.code_dept={dep}&refine.date={annee}\"\n",
    "#     return URL + ressource + month_format\n"
   ]
  },
  {
   "cell_type": "code",
   "execution_count": null,
   "metadata": {},
   "outputs": [],
   "source": [
    "# from create_model import TemperatureHeure\n",
    "# from sqlalchemy.orm import sessionmaker\n",
    "# from sqlalchemy import create_engine\n",
    "\n",
    "\n",
    "# engine = create_engine('sqlite:///db.sqlite')\n",
    "# Session = sessionmaker(bind=engine)\n",
    "# session = Session()\n",
    "\n",
    "\n",
    "# field_list = [\n",
    "#     [\"date\", \"date\"],\n",
    "#     [\"temperature\", \"tc\"],\n",
    "#     [\"region\", \"nom_reg\"],\n",
    "#     [\"region_code\", \"code_reg\"],\n",
    "#     [\"departement\", \"nom_dept\"],\n",
    "#     [\"departement_code\", \"code_dep\"],\n",
    "#     [\"commune\", \"libgeo\"],\n",
    "#     [\"commune_code\", \"codegeo\"],\n",
    "# ]\n",
    "\n",
    "# for dep in dep_with_gare:\n",
    "#     for annee in [2016,2017,2018,2019,2020,2021]:\n",
    "#         my_request = requests.get(specific_url_temp(dep,annee))\n",
    "#         print(f\"request réalisée pour , {annee}, {dep}\")\n",
    "#         for temp in my_request.json()[\"records\"]:\n",
    "            \n",
    "#             temp_data= {}\n",
    "\n",
    "#             for field in field_list:\n",
    "#                 try: \n",
    "#                     temp_data[field[0]] =temp[\"fields\"][field[1]]\n",
    "#                 except KeyError:\n",
    "#                     temp_data[field[0]]=None\n",
    "\n",
    "\n",
    "#             session.add(TemperatureHeure(**temp_data))\n",
    "#         session.commit()\n"
   ]
  },
  {
   "cell_type": "code",
   "execution_count": null,
   "metadata": {},
   "outputs": [],
   "source": [
    "import pandas as pd\n",
    "df_temp= pd.read_csv(\"agregated_temperature.csv\")\n",
    "df_temp.to_sql(\"Temperature\",con=engine,if_exists=\"replace\")"
   ]
  }
 ],
 "metadata": {
  "kernelspec": {
   "display_name": "apisncf",
   "language": "python",
   "name": "python3"
  },
  "language_info": {
   "codemirror_mode": {
    "name": "ipython",
    "version": 3
   },
   "file_extension": ".py",
   "mimetype": "text/x-python",
   "name": "python",
   "nbconvert_exporter": "python",
   "pygments_lexer": "ipython3",
   "version": "3.9.15 (main, Nov 24 2022, 14:31:59) \n[GCC 11.2.0]"
  },
  "orig_nbformat": 4,
  "vscode": {
   "interpreter": {
    "hash": "62c7461d636a3cea30a719de429da6dbf3610b43f94aeca3e4b01a0ea074f705"
   }
  }
 },
 "nbformat": 4,
 "nbformat_minor": 2
}
