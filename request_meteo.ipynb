{
 "cells": [
  {
   "cell_type": "code",
   "execution_count": 4,
   "metadata": {},
   "outputs": [],
   "source": [
    "import requests\n",
    "import re\n",
    "import json\n",
    "import sqlalchemy as db\n",
    "from datetime import datetime\n"
   ]
  },
  {
   "cell_type": "code",
   "execution_count": 1,
   "metadata": {},
   "outputs": [],
   "source": [
    "url=\"https://public.opendatasoft.com/api/records/1.0/search/?dataset=donnees-synop-essentielles-omm&q=&rows=-1&sort=-date\"\n",
    "url_dep=\"&refine.nom_dept=Haute-Vienne\"\n",
    "url_date=\"&refine.date=2016\""
   ]
  },
  {
   "cell_type": "code",
   "execution_count": 2,
   "metadata": {},
   "outputs": [],
   "source": [
    "liste_dep=[\"Guyane\",\"Martinique\",\"Guadeloupe\",\"Essonne\",\"Gironde\",\"Haute-Garonne\",\"Haute-Loire\",\"Morbiha\",\n",
    "\"Corse-du-Sud\",\"Finistere\",\"Haute-Vienne\",\"Indre-et-Loire\",\"Vienne\",\"Bouches-du-Rhône\",\"Côtes-d'Armor\",\"Haute-Corse\",\"Hautes-Alpes\",\"Loire-Atlantique\",\"Nord\",\"Alpes-Maritimes\",\"Ille-et-Vilaine\",\"Pyrénées-Orientales\",\"Marne\",\"Seine-Maritime\",\"Lot\",\"Hérault\",\"Puy-de-Dôme\",\"Haut-Rhin\",\"Charente-Maritime\",\n",
    "\"Manche\",\"Meurthe-et-Moselle\",\"Hautes-Pyrénées\",\"Orne\",\"Aveyron\",\"Côte-d'Or\",\"Bas-Rhin\",\"Calvados\",\"Ariège\",\n",
    "\"Landes\",\"La Réunion\",\"Var\",\"Mayotte\"]\n",
    "\n",
    "liste_annees = [\"2016\",\"2017\",\"2018\",\"2019\",\"2020\",\"2021\"]\n",
    "\n",
    "\n"
   ]
  },
  {
   "cell_type": "code",
   "execution_count": 25,
   "metadata": {},
   "outputs": [],
   "source": [
    "engine = db.create_engine(\"sqlite:///donnees_sncf.db\")\n",
    "connection = engine.connect()\n",
    "\n",
    "metadata = db.MetaData()\n",
    "with engine.connect() as con:\n",
    "    con.execute(\"DROP TABLE meteo\")\n",
    "\n",
    "meteo_table = db.Table(\"meteo\", metadata,\n",
    "             db.Column('nom_dep',db.String()),\n",
    "             db.Column('temperature', db.String()),\n",
    "             db.Column('date',db.String()),\n",
    "             db.Column('heure',db.String())\n",
    "             )\n",
    "\n",
    "metadata.create_all(engine)\n",
    "\n"
   ]
  },
  {
   "cell_type": "code",
   "execution_count": 26,
   "metadata": {},
   "outputs": [],
   "source": [
    "for departement in liste_dep:\n",
    "    for annee in liste_annees:\n",
    "        data = requests.get(url + f\"&refine.nom_dept={departement}\" + f\"&refine.date={annee}\").json()\n",
    "        # print(data[\"records\"][0][\"fields\"])\n",
    "\n",
    "        with engine.connect() as con:\n",
    "            for record in data['records']:\n",
    "                date = record[\"fields\"][\"date\"].split(\"T\")[0]\n",
    "                heure = record[\"fields\"][\"date\"].split(\"T\")[1].split(\"+\")[0]\n",
    "                nom_dep= record[\"fields\"][\"nom_dept\"]\n",
    "                try:\n",
    "                    temperature=record[\"fields\"][\"tc\"]\n",
    "                except:\n",
    "                    temperature=\"None\"\n",
    "\n",
    "                insertTable = \"INSERT INTO meteo (date, heure, temperature, nom_dep) VALUES (:date, :heure, :temperature, :nom_dep)\"\n",
    "                params = {\"date\":date, \"heure\":heure, \"temperature\":temperature, \"nom_dep\":nom_dep}\n",
    "                statement = db.text(insertTable)\n",
    "                con.execute(statement,params)"
   ]
  }
 ],
 "metadata": {
  "kernelspec": {
   "display_name": "apisncf",
   "language": "python",
   "name": "python3"
  },
  "language_info": {
   "codemirror_mode": {
    "name": "ipython",
    "version": 3
   },
   "file_extension": ".py",
   "mimetype": "text/x-python",
   "name": "python",
   "nbconvert_exporter": "python",
   "pygments_lexer": "ipython3",
   "version": "3.9.15 (main, Nov 24 2022, 14:31:59) \n[GCC 11.2.0]"
  },
  "orig_nbformat": 4,
  "vscode": {
   "interpreter": {
    "hash": "62c7461d636a3cea30a719de429da6dbf3610b43f94aeca3e4b01a0ea074f705"
   }
  }
 },
 "nbformat": 4,
 "nbformat_minor": 2
}
